{
  "nbformat": 4,
  "nbformat_minor": 0,
  "metadata": {
    "colab": {
      "provenance": [],
      "authorship_tag": "ABX9TyObQIheNV8tPAlemjmZuVjm",
      "include_colab_link": true
    },
    "kernelspec": {
      "name": "python3",
      "display_name": "Python 3"
    },
    "language_info": {
      "name": "python"
    }
  },
  "cells": [
    {
      "cell_type": "markdown",
      "metadata": {
        "id": "view-in-github",
        "colab_type": "text"
      },
      "source": [
        "<a href=\"https://colab.research.google.com/github/gopika107/Codsoft/blob/main/password_generator.ipynb\" target=\"_parent\"><img src=\"https://colab.research.google.com/assets/colab-badge.svg\" alt=\"Open In Colab\"/></a>"
      ]
    },
    {
      "cell_type": "code",
      "execution_count": null,
      "metadata": {
        "id": "zCdg-_USTxIc"
      },
      "outputs": [],
      "source": [
        "# import the string and random modules\n",
        "import string\n",
        "import random"
      ]
    },
    {
      "cell_type": "code",
      "source": [
        "# define the characters that can be used in the password\n",
        "all_characters = string.ascii_letters + string.digits + string.punctuation\n"
      ],
      "metadata": {
        "id": "yzKrJBpcbMj0"
      },
      "execution_count": null,
      "outputs": []
    },
    {
      "cell_type": "code",
      "source": [
        "# ask the user for the desired length of the password\n",
        "length = int(input(\"Enter the length of the password: \"))"
      ],
      "metadata": {
        "colab": {
          "base_uri": "https://localhost:8080/"
        },
        "id": "tZnqKkY4bYa2",
        "outputId": "546df30b-538a-4736-f015-0ed9021a9ea2"
      },
      "execution_count": null,
      "outputs": [
        {
          "name": "stdout",
          "output_type": "stream",
          "text": [
            "Enter the length of the password: 17\n"
          ]
        }
      ]
    },
    {
      "cell_type": "code",
      "source": [
        "# generate a password using randomly chosen characters\n",
        "# using the 'choices' function from the random module\n",
        "# and joining the resulting characters into a string\n",
        "password = ''.join(random.choices(all_characters, k=length))"
      ],
      "metadata": {
        "id": "b3hwsg8kbYaC"
      },
      "execution_count": null,
      "outputs": []
    },
    {
      "cell_type": "code",
      "source": [
        "\n",
        "# display the generated password to the user\n",
        "print(\"Your password is:\", password)"
      ],
      "metadata": {
        "colab": {
          "base_uri": "https://localhost:8080/"
        },
        "id": "d90uvQWPbiO5",
        "outputId": "b4388e48-e8a2-4354-867e-395490691719"
      },
      "execution_count": null,
      "outputs": [
        {
          "output_type": "stream",
          "name": "stdout",
          "text": [
            "Your password is: Hh\"oA_n{'Ywx@U,XX\n"
          ]
        }
      ]
    }
  ]
}